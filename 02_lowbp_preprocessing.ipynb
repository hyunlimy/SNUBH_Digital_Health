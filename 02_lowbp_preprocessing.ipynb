{
  "nbformat": 4,
  "nbformat_minor": 0,
  "metadata": {
    "colab": {
      "provenance": [],
      "include_colab_link": true
    },
    "kernelspec": {
      "display_name": "keras",
      "language": "python",
      "name": "lims1_keras"
    },
    "language_info": {
      "codemirror_mode": {
        "name": "ipython",
        "version": 3
      },
      "file_extension": ".py",
      "mimetype": "text/x-python",
      "name": "python",
      "nbconvert_exporter": "python",
      "pygments_lexer": "ipython3",
      "version": "3.8.10"
    }
  },
  "cells": [
    {
      "cell_type": "markdown",
      "metadata": {
        "id": "view-in-github",
        "colab_type": "text"
      },
      "source": [
        "<a href=\"https://colab.research.google.com/github/hyunlimy/SNUBH_Digital_Health/blob/main/02_lowbp_preprocessing.ipynb\" target=\"_parent\"><img src=\"https://colab.research.google.com/assets/colab-badge.svg\" alt=\"Open In Colab\"/></a>"
      ]
    },
    {
      "cell_type": "markdown",
      "metadata": {
        "id": "Gq-t-jw7Ntiv"
      },
      "source": [
        "# 경기도 바이오 전문인력 양성사업 - 디지털 헬스케어 AI 솔루션 개발과 산업현장 체험\n",
        "## 생체신호 데이터 활용 (1) <br> Low blood pressure prediction using arterial wave - preprocessing\n",
        "- Author : **Hyun-Lim Yang, Ph.D.**<br>\n",
        "Research Assistant Professor @\n",
        "Seoul National University Hospital <br>\n",
        "Department of Anesthesiology and Pain Medicine\n",
        "- E-mail : hlyang{_at_}snu{_dot_}ac{_dot_}kr\n",
        "***"
      ]
    },
    {
      "cell_type": "code",
      "metadata": {
        "colab": {
          "base_uri": "https://localhost:8080/",
          "height": 17
        },
        "id": "jxT6T97BAb1G",
        "outputId": "6a9f0a12-f616-418b-df97-50f02746c8f0"
      },
      "source": [
        "from IPython.display import HTML\n",
        "style_warn = \"<style>div.warn { background-color: #fcf2f2;border-color: #dFb5b4; border-left: 5px solid #dfb5b4; padding: 0.5em;}</style>\"\n",
        "HTML(style_warn)"
      ],
      "execution_count": null,
      "outputs": [
        {
          "output_type": "execute_result",
          "data": {
            "text/html": [
              "<style>div.warn { background-color: #fcf2f2;border-color: #dFb5b4; border-left: 5px solid #dfb5b4; padding: 0.5em;}</style>"
            ],
            "text/plain": [
              "<IPython.core.display.HTML object>"
            ]
          },
          "metadata": {},
          "execution_count": 1
        }
      ]
    },
    {
      "cell_type": "markdown",
      "metadata": {
        "id": "dhpoIAxnAb1M"
      },
      "source": [
        "### Import packages"
      ]
    },
    {
      "cell_type": "markdown",
      "metadata": {
        "id": "p9PYd5m4Ab1O"
      },
      "source": [
        "<div class=\"warn\">**Warning!** : use your directory at `download_directory`</div>\n"
      ]
    },
    {
      "cell_type": "markdown",
      "metadata": {
        "id": "wq_pFlM6Ab1P"
      },
      "source": [
        "> **Wargning** <br>\n",
        "> colab 환경을 위한 google drive import 코드가 포함되어 있습니다. <br>\n",
        "> 로컬 환경에서 실행 시 colab을 위한 import function들을 comment out 한 뒤 실행하세요."
      ]
    },
    {
      "cell_type": "code",
      "metadata": {
        "colab": {
          "base_uri": "https://localhost:8080/"
        },
        "id": "V7DtyCOHYZ89",
        "outputId": "4d401d9a-5195-4b93-e89f-c7d6d61ecc03"
      },
      "source": [
        "from google.colab import drive  # for colab\n",
        "drive.mount('/content/gdrive/')  # for colab"
      ],
      "execution_count": null,
      "outputs": [
        {
          "output_type": "stream",
          "name": "stdout",
          "text": [
            "Drive already mounted at /content/gdrive/; to attempt to forcibly remount, call drive.mount(\"/content/gdrive/\", force_remount=True).\n"
          ]
        }
      ]
    },
    {
      "cell_type": "code",
      "metadata": {
        "colab": {
          "base_uri": "https://localhost:8080/"
        },
        "id": "lAYKdv0qYcnq",
        "outputId": "64cea1dd-9ad2-4267-b63c-7e94a6d41ce1"
      },
      "source": [
        "import os\n",
        "cloud_directory = '/content/gdrive/My Drive/SNUBH_Digital_Healthcare/'\n",
        "os.listdir(cloud_directory) # for colab, check cloud directory mount"
      ],
      "execution_count": null,
      "outputs": [
        {
          "output_type": "execute_result",
          "data": {
            "text/plain": [
              "['kohi_preprocessor.py', 'kohi_CNN_model_archi.png', 'data']"
            ]
          },
          "metadata": {},
          "execution_count": 3
        }
      ]
    },
    {
      "cell_type": "code",
      "metadata": {
        "id": "RuNp5y2-Ab1X"
      },
      "source": [
        "import sys\n",
        "download_directory = os.getcwd() # for local environments\n",
        "sys.path.append(download_directory) # for local environments\n",
        "sys.path.append(cloud_directory) # for colab"
      ],
      "execution_count": null,
      "outputs": []
    },
    {
      "cell_type": "code",
      "metadata": {
        "colab": {
          "base_uri": "https://localhost:8080/"
        },
        "id": "gEzXzbckNti1",
        "outputId": "79133715-2cae-4aa8-9c6c-3b080bcd9dae"
      },
      "source": [
        "!pip install vitaldb"
      ],
      "execution_count": null,
      "outputs": [
        {
          "output_type": "stream",
          "name": "stdout",
          "text": [
            "Requirement already satisfied: vitaldb in /usr/local/lib/python3.7/dist-packages (0.0.5)\n",
            "Requirement already satisfied: pandas in /usr/local/lib/python3.7/dist-packages (from vitaldb) (1.1.5)\n",
            "Requirement already satisfied: numpy in /usr/local/lib/python3.7/dist-packages (from vitaldb) (1.19.5)\n",
            "Requirement already satisfied: requests in /usr/local/lib/python3.7/dist-packages (from vitaldb) (2.23.0)\n",
            "Requirement already satisfied: python-dateutil>=2.7.3 in /usr/local/lib/python3.7/dist-packages (from pandas->vitaldb) (2.8.2)\n",
            "Requirement already satisfied: pytz>=2017.2 in /usr/local/lib/python3.7/dist-packages (from pandas->vitaldb) (2018.9)\n",
            "Requirement already satisfied: six>=1.5 in /usr/local/lib/python3.7/dist-packages (from python-dateutil>=2.7.3->pandas->vitaldb) (1.15.0)\n",
            "Requirement already satisfied: certifi>=2017.4.17 in /usr/local/lib/python3.7/dist-packages (from requests->vitaldb) (2021.5.30)\n",
            "Requirement already satisfied: chardet<4,>=3.0.2 in /usr/local/lib/python3.7/dist-packages (from requests->vitaldb) (3.0.4)\n",
            "Requirement already satisfied: idna<3,>=2.5 in /usr/local/lib/python3.7/dist-packages (from requests->vitaldb) (2.10)\n",
            "Requirement already satisfied: urllib3!=1.25.0,!=1.25.1,<1.26,>=1.21.1 in /usr/local/lib/python3.7/dist-packages (from requests->vitaldb) (1.24.3)\n"
          ]
        }
      ]
    },
    {
      "cell_type": "code",
      "source": [
        "!pip install gcsfs\n",
        "import gcsfs"
      ],
      "metadata": {
        "id": "kr7ShL1jLED2"
      },
      "execution_count": null,
      "outputs": []
    },
    {
      "cell_type": "code",
      "metadata": {
        "id": "TeCJ_u-ZAb1a"
      },
      "source": [
        "import numpy as np\n",
        "import pandas as pd\n",
        "import glob\n",
        "import kohi_preprocessor as pre\n",
        "import vitaldb\n",
        "from tqdm import tqdm\n",
        "import warnings\n",
        "warnings.filterwarnings(action='ignore')\n",
        "\n",
        "download_directory = cloud_directory # for colab"
      ],
      "execution_count": null,
      "outputs": []
    },
    {
      "cell_type": "markdown",
      "metadata": {
        "id": "HVxAlNvkAb1h"
      },
      "source": [
        "### Data loading\n",
        "샘플 파일을 vitaldb 서버로 부터 직접 다운받아 로드"
      ]
    },
    {
      "cell_type": "markdown",
      "metadata": {
        "id": "UbGUZOqrAb1p"
      },
      "source": [
        "> **TODO:** `00010.vital`을 100hz로 변환하여 `chart_pd_01`에 DataFrame으로 저장하기"
      ]
    },
    {
      "cell_type": "code",
      "metadata": {
        "id": "8yiFyo7YAb1i"
      },
      "source": [
        "track_names = [\"SNUADC/ART\", \"Solar8000/ART_MBP\"]\n",
        "### =========== Your code here ====================\n",
        "\n",
        "vitalfile = vitaldb.VitalFile(10, track_names=track_names)\n",
        "chart_pd_01 = vitalfile.to_pandas(track_names, interval=1/100)\n",
        "\n",
        "### ===============================================\n"
      ],
      "execution_count": null,
      "outputs": []
    },
    {
      "cell_type": "code",
      "metadata": {
        "colab": {
          "base_uri": "https://localhost:8080/",
          "height": 423
        },
        "id": "CIVzfhI4Nti4",
        "outputId": "1b96c59f-8fae-4373-ff15-aaee8b60462d"
      },
      "source": [
        "chart_pd_01"
      ],
      "execution_count": null,
      "outputs": [
        {
          "output_type": "execute_result",
          "data": {
            "text/html": [
              "<div>\n",
              "<style scoped>\n",
              "    .dataframe tbody tr th:only-of-type {\n",
              "        vertical-align: middle;\n",
              "    }\n",
              "\n",
              "    .dataframe tbody tr th {\n",
              "        vertical-align: top;\n",
              "    }\n",
              "\n",
              "    .dataframe thead th {\n",
              "        text-align: right;\n",
              "    }\n",
              "</style>\n",
              "<table border=\"1\" class=\"dataframe\">\n",
              "  <thead>\n",
              "    <tr style=\"text-align: right;\">\n",
              "      <th></th>\n",
              "      <th>SNUADC/ART</th>\n",
              "      <th>Solar8000/ART_MBP</th>\n",
              "    </tr>\n",
              "  </thead>\n",
              "  <tbody>\n",
              "    <tr>\n",
              "      <th>0</th>\n",
              "      <td>NaN</td>\n",
              "      <td>NaN</td>\n",
              "    </tr>\n",
              "    <tr>\n",
              "      <th>1</th>\n",
              "      <td>NaN</td>\n",
              "      <td>NaN</td>\n",
              "    </tr>\n",
              "    <tr>\n",
              "      <th>2</th>\n",
              "      <td>NaN</td>\n",
              "      <td>NaN</td>\n",
              "    </tr>\n",
              "    <tr>\n",
              "      <th>3</th>\n",
              "      <td>NaN</td>\n",
              "      <td>NaN</td>\n",
              "    </tr>\n",
              "    <tr>\n",
              "      <th>4</th>\n",
              "      <td>NaN</td>\n",
              "      <td>NaN</td>\n",
              "    </tr>\n",
              "    <tr>\n",
              "      <th>...</th>\n",
              "      <td>...</td>\n",
              "      <td>...</td>\n",
              "    </tr>\n",
              "    <tr>\n",
              "      <th>2099216</th>\n",
              "      <td>2.05234</td>\n",
              "      <td>NaN</td>\n",
              "    </tr>\n",
              "    <tr>\n",
              "      <th>2099217</th>\n",
              "      <td>2.05234</td>\n",
              "      <td>NaN</td>\n",
              "    </tr>\n",
              "    <tr>\n",
              "      <th>2099218</th>\n",
              "      <td>2.05234</td>\n",
              "      <td>NaN</td>\n",
              "    </tr>\n",
              "    <tr>\n",
              "      <th>2099219</th>\n",
              "      <td>2.05234</td>\n",
              "      <td>NaN</td>\n",
              "    </tr>\n",
              "    <tr>\n",
              "      <th>2099220</th>\n",
              "      <td>NaN</td>\n",
              "      <td>NaN</td>\n",
              "    </tr>\n",
              "  </tbody>\n",
              "</table>\n",
              "<p>2099221 rows × 2 columns</p>\n",
              "</div>"
            ],
            "text/plain": [
              "         SNUADC/ART  Solar8000/ART_MBP\n",
              "0               NaN                NaN\n",
              "1               NaN                NaN\n",
              "2               NaN                NaN\n",
              "3               NaN                NaN\n",
              "4               NaN                NaN\n",
              "...             ...                ...\n",
              "2099216     2.05234                NaN\n",
              "2099217     2.05234                NaN\n",
              "2099218     2.05234                NaN\n",
              "2099219     2.05234                NaN\n",
              "2099220         NaN                NaN\n",
              "\n",
              "[2099221 rows x 2 columns]"
            ]
          },
          "metadata": {},
          "execution_count": 8
        }
      ]
    },
    {
      "cell_type": "code",
      "metadata": {
        "id": "yrQds6dKAb1s"
      },
      "source": [
        "col_mbp = 'Solar8000/ART_MBP'\n",
        "col_art = 'SNUADC/ART'"
      ],
      "execution_count": null,
      "outputs": []
    },
    {
      "cell_type": "markdown",
      "metadata": {
        "id": "cBcUECUdAb1z"
      },
      "source": [
        "### mean blood pressure 데이터 추출\n",
        "> **TODO:** ART_MBP 변수들 중 값이 존재하는 것만 별도의 변수 `mbp_data_pd`에 저장"
      ]
    },
    {
      "cell_type": "code",
      "metadata": {
        "colab": {
          "base_uri": "https://localhost:8080/"
        },
        "id": "LoYvclY8Ab10",
        "outputId": "c5944304-7a75-4837-f7a5-e1536cc60a9d"
      },
      "source": [
        "# mbp 데이터 추출\n",
        "### =========== Your code here ====================\n",
        "\n",
        "mbp_data_pd = chart_pd_01[col_mbp][chart_pd_01[col_mbp].notnull()]\n",
        "\n",
        "### ===============================================\n",
        "\n",
        "mbp_index = mbp_data_pd.index.values\n",
        "print(mbp_data_pd.head())"
      ],
      "execution_count": null,
      "outputs": [
        {
          "output_type": "stream",
          "name": "stdout",
          "text": [
            "708    -20.0\n",
            "899    -20.0\n",
            "1099   -20.0\n",
            "1299   -20.0\n",
            "1499   -20.0\n",
            "Name: Solar8000/ART_MBP, dtype: float64\n"
          ]
        }
      ]
    },
    {
      "cell_type": "markdown",
      "metadata": {
        "id": "vSF_ry_wAb13"
      },
      "source": [
        "### arterial wave 데이터 추출 및 nan 지우기\n",
        "> **TODO:** ART 변수들 중 값이 존재하지 않는 모든 부분을 0으로 채운 뒤 `art_full_pd`에 저장"
      ]
    },
    {
      "cell_type": "code",
      "metadata": {
        "colab": {
          "base_uri": "https://localhost:8080/"
        },
        "id": "zUnaZqqwAb13",
        "outputId": "bb38fbf4-05eb-4712-abf2-27613d86048b"
      },
      "source": [
        "# art 데이터 전체 추출 및 nan value 채우기\n",
        "art_full_pd = chart_pd_01[col_art]\n",
        "\n",
        "### =========== Your code here ====================\n",
        "\n",
        "art_full_pd = art_full_pd.fillna(0)\n",
        "\n",
        "### =========== Your code here ====================\n",
        "print(art_full_pd.head())"
      ],
      "execution_count": null,
      "outputs": [
        {
          "output_type": "stream",
          "name": "stdout",
          "text": [
            "0    0.0\n",
            "1    0.0\n",
            "2    0.0\n",
            "3    0.0\n",
            "4    0.0\n",
            "Name: SNUADC/ART, dtype: float64\n"
          ]
        }
      ]
    },
    {
      "cell_type": "markdown",
      "metadata": {
        "id": "1S0xwEUeAb16"
      },
      "source": [
        "### 데이터셋 만들기\n",
        "필요한 파라미터들 정의"
      ]
    },
    {
      "cell_type": "code",
      "metadata": {
        "id": "JVFKRPiqAb17"
      },
      "source": [
        "# 필요한 파라미터들 정의\n",
        "mdelay = 1\n",
        "srate = 100\n",
        "length = 20\n",
        "max_limit_mbp = 250\n",
        "min_limit_mbp = 0"
      ],
      "execution_count": null,
      "outputs": []
    },
    {
      "cell_type": "code",
      "metadata": {
        "colab": {
          "base_uri": "https://localhost:8080/"
        },
        "id": "tRCLaPraAb1-",
        "outputId": "2a50136d-b4a4-4a31-84a1-15fdd7280df9"
      },
      "source": [
        "# 입력 데이터 길이가 20s이고 black out (여기서는 mdelay) 기간이 1분 이니, mbp가 1분 20초 이내에 등장하는 것은 무시함\n",
        "# mbp index를 1분 20초 뒤로 미룸\n",
        "mbp_points = mbp_index[mbp_index > (mdelay*60*srate + length*srate)]\n",
        "print(mbp_points)"
      ],
      "execution_count": null,
      "outputs": [
        {
          "output_type": "stream",
          "name": "stdout",
          "text": [
            "[   8100    8300    8500 ... 2092959 2093159 2093359]\n"
          ]
        }
      ]
    },
    {
      "cell_type": "markdown",
      "metadata": {
        "id": "UNTL3bHjAb2B"
      },
      "source": [
        "### Arterial wave segment 추출\n",
        "> **TODO:** 현재 mbp 값을 기준으로, 1분 20초 전 ~ 1분 전 데이터를 arterial wave segment로 추출하여 `art_seg_list`에 저장하기"
      ]
    },
    {
      "cell_type": "code",
      "metadata": {
        "id": "26VDlRR9Ab2B"
      },
      "source": [
        "# 실습: arterial segment 추출하기\n",
        "mbp_values_list = [mbp_data_pd[idx] for idx in mbp_points]\n",
        "\n",
        "### =========== Your code here ====================\n",
        "\n",
        "art_seg_list = [art_full_pd[idx-(mdelay*60*srate) - (length*srate) :\n",
        "                            idx - (mdelay*60*srate)].values\n",
        "                for idx in mbp_points]\n",
        "### ==============================================="
      ],
      "execution_count": null,
      "outputs": []
    },
    {
      "cell_type": "code",
      "metadata": {
        "colab": {
          "base_uri": "https://localhost:8080/"
        },
        "id": "8gkmPxdBAb2E",
        "outputId": "d95f3cdc-d43b-431a-d9c2-3ede876e30fe"
      },
      "source": [
        "mbp_values_np = np.array(mbp_values_list)\n",
        "art_seg_np = np.array(art_seg_list)\n",
        "print(mbp_values_np.shape)\n",
        "print(art_seg_np.shape)"
      ],
      "execution_count": null,
      "outputs": [
        {
          "output_type": "stream",
          "name": "stdout",
          "text": [
            "(10428,)\n",
            "(10428, 2000)\n"
          ]
        }
      ]
    },
    {
      "cell_type": "markdown",
      "metadata": {
        "id": "lCiaLCYFAb2H"
      },
      "source": [
        "### 조건에 따라 filter들 정의"
      ]
    },
    {
      "cell_type": "code",
      "metadata": {
        "colab": {
          "base_uri": "https://localhost:8080/"
        },
        "id": "x2ZVi6beAb2I",
        "outputId": "1c146404-8bec-4738-ae1a-93bd8ee78f83"
      },
      "source": [
        "# 필터들 선언\n",
        "# mbp min-max filter\n",
        "mbp_max_filter = mbp_values_np < max_limit_mbp\n",
        "mbp_min_filter = mbp_values_np > min_limit_mbp\n",
        "mbp_filter = mbp_max_filter & mbp_min_filter\n",
        "\n",
        "# abp range filter\n",
        "art_filter_list = []\n",
        "for seg in art_seg_np:\n",
        "    filter_value = (np.array(seg) > 25.0).all() and (np.array(seg) < 250.0).all()\n",
        "    art_filter_list.append(filter_value)\n",
        "art_filter = np.array(art_filter_list)\n",
        "\n",
        "# mstds 필터\n",
        "mstds_values_list = []\n",
        "for seg in tqdm(art_seg_np):\n",
        "    if (np.array(seg) < 0.).any():\n",
        "        mstds_values_list.append(float(0.))\n",
        "    else:\n",
        "        mstd_val, _ = pre.process_beat(seg)\n",
        "        mstds_values_list.append(mstd_val)\n",
        "mstds_filter = np.array(mstds_values_list) > 0."
      ],
      "execution_count": null,
      "outputs": [
        {
          "output_type": "stream",
          "name": "stderr",
          "text": [
            "100%|██████████| 10428/10428 [02:16<00:00, 76.20it/s] \n"
          ]
        }
      ]
    },
    {
      "cell_type": "markdown",
      "metadata": {
        "id": "E9KPPXroAb2K"
      },
      "source": [
        "전체 필터 하나로 만들기"
      ]
    },
    {
      "cell_type": "code",
      "metadata": {
        "id": "FE1RNFpOAb2K"
      },
      "source": [
        "all_filters = mbp_filter & art_filter & mstds_filter"
      ],
      "execution_count": null,
      "outputs": []
    },
    {
      "cell_type": "markdown",
      "metadata": {
        "id": "sBSViHTgAb2N"
      },
      "source": [
        "### 필터 적용하여 데이터 추출\n",
        "> **TODO:** `all_filters`를 이용하여 필터 통과한 데이터들만 추출해 `mbp_filtered`와 `art_filtered`에 저장"
      ]
    },
    {
      "cell_type": "code",
      "metadata": {
        "colab": {
          "base_uri": "https://localhost:8080/"
        },
        "id": "iA4ZCAxEAb2N",
        "outputId": "505308a1-5a5a-4b5f-c2d3-f60ea6fe9dc4"
      },
      "source": [
        "### =========== Your code here ====================\n",
        "\n",
        "mbp_filtered = mbp_values_np[all_filters]\n",
        "art_filtered = art_seg_np[all_filters]\n",
        "\n",
        "### ===============================================\n",
        "\n",
        "print(mbp_filtered.shape)\n",
        "print(art_filtered.shape)"
      ],
      "execution_count": null,
      "outputs": [
        {
          "output_type": "stream",
          "name": "stdout",
          "text": [
            "(8104,)\n",
            "(8104, 2000)\n"
          ]
        }
      ]
    },
    {
      "cell_type": "markdown",
      "metadata": {
        "id": "j654gCFuAb2Q"
      },
      "source": [
        "데이터셋 정의"
      ]
    },
    {
      "cell_type": "code",
      "metadata": {
        "id": "k46YjDAZAb2R",
        "colab": {
          "base_uri": "https://localhost:8080/"
        },
        "outputId": "24ca8f81-8e32-458f-d68f-bb69da7f693b"
      },
      "source": [
        "mbp_filtered[mbp_filtered < 61].shape"
      ],
      "execution_count": null,
      "outputs": [
        {
          "output_type": "execute_result",
          "data": {
            "text/plain": [
              "(626,)"
            ]
          },
          "metadata": {},
          "execution_count": 19
        }
      ]
    },
    {
      "cell_type": "markdown",
      "metadata": {
        "id": "VuZYI74mAb2c"
      },
      "source": [
        "### Binary label 정의\n",
        "mbp가 61 미만인 데이터들의 label을 1로 지정하여 학습을 위한 y_label 생성"
      ]
    },
    {
      "cell_type": "code",
      "metadata": {
        "id": "yo4MdQBFAb2c"
      },
      "source": [
        "label_tmp = np.zeros(len(mbp_filtered))\n",
        "label_tmp[mbp_filtered<61] = 1."
      ],
      "execution_count": null,
      "outputs": []
    },
    {
      "cell_type": "code",
      "metadata": {
        "id": "raDrxUcdAb2f"
      },
      "source": [
        "x_data = art_filtered\n",
        "y_label = label_tmp"
      ],
      "execution_count": null,
      "outputs": []
    },
    {
      "cell_type": "code",
      "metadata": {
        "id": "KjjtcQifAb2j",
        "colab": {
          "base_uri": "https://localhost:8080/"
        },
        "outputId": "2a4651b5-5d8f-4df6-9d3a-3198bdf2e01a"
      },
      "source": [
        "x_data.shape"
      ],
      "execution_count": null,
      "outputs": [
        {
          "output_type": "execute_result",
          "data": {
            "text/plain": [
              "(8104, 2000)"
            ]
          },
          "metadata": {},
          "execution_count": 22
        }
      ]
    },
    {
      "cell_type": "code",
      "metadata": {
        "id": "WGO6dqX1Ab2m",
        "colab": {
          "base_uri": "https://localhost:8080/"
        },
        "outputId": "ded2ffaf-7b38-48fe-856f-114cce2391cc"
      },
      "source": [
        "y_label.shape"
      ],
      "execution_count": null,
      "outputs": [
        {
          "output_type": "execute_result",
          "data": {
            "text/plain": [
              "(8104,)"
            ]
          },
          "metadata": {},
          "execution_count": 23
        }
      ]
    },
    {
      "cell_type": "code",
      "metadata": {
        "id": "aUsVhpD9Ab2o"
      },
      "source": [],
      "execution_count": null,
      "outputs": []
    },
    {
      "cell_type": "code",
      "metadata": {
        "id": "oXWfOAeGAb2r"
      },
      "source": [],
      "execution_count": null,
      "outputs": []
    }
  ]
}